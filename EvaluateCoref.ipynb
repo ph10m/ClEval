{
 "cells": [
  {
   "cell_type": "code",
   "execution_count": null,
   "metadata": {},
   "outputs": [],
   "source": [
    "%load_ext autoreload\n",
    "%autoreload 2\n",
    "from metrics import CorefEvaluator\n",
    "from document import Document\n",
    "from evaluator import JsonEval"
   ]
  },
  {
   "cell_type": "markdown",
   "metadata": {},
   "source": [
    "usage:\n",
    "\n",
    "1. update with data\n",
    ">update(predicted, gold, mention_to_predicted, mention_to_gold)\n",
    "\n",
    "..which runs:\n",
    "```\n",
    "if self.metric == ceafe:\n",
    "    pn, pd, rn, rd = self.metric(predicted, gold)\n",
    "else:\n",
    "    pn, pd = self.metric(predicted, mention_to_gold)\n",
    "    rn, rd = self.metric(gold, mention_to_predicted)\n",
    "```\n",
    "2. get results\n",
    ">get_prf (precision, recall, f1)\n"
   ]
  },
  {
   "cell_type": "code",
   "execution_count": 2,
   "metadata": {},
   "outputs": [],
   "source": [
    "scorer = CorefEvaluator()\n",
    "jsoneval = JsonEval()"
   ]
  },
  {
   "cell_type": "code",
   "execution_count": 3,
   "metadata": {},
   "outputs": [],
   "source": [
    "spanbert_pred = [[[0, 24, 25],\n",
    "  [1, 0, 1],\n",
    "  [2, 2, 3],\n",
    "  [6, 3, 4],\n",
    "  [8, 3, 4],\n",
    "  [12, 9, 10],\n",
    "  [13, 8, 9],\n",
    "  [16, 5, 6],\n",
    "  [17, 2, 3],\n",
    "  [18, 5, 6],\n",
    "  [23, 9, 10],\n",
    "  [23, 13, 14],\n",
    "  [23, 18, 19]],\n",
    " [[0, 28, 31],\n",
    "  [2, 12, 13],\n",
    "  [6, 16, 17],\n",
    "  [8, 11, 12],\n",
    "  [11, 12, 13],\n",
    "  [16, 9, 10],\n",
    "  [17, 0, 1],\n",
    "  [19, 6, 7],\n",
    "  [21, 2, 3],\n",
    "  [25, 7, 8],\n",
    "  [30, 8, 9],\n",
    "  [32, 9, 10]],\n",
    " [[0, 19, 23], [7, 3, 5]],\n",
    " [[11, 6, 13], [12, 0, 2], [13, 3, 5]],\n",
    " [[1, 0, 5], [17, 6, 8], [21, 9, 10], [30, 16, 18]],\n",
    " [[17, 1, 2], [18, 0, 1]],\n",
    " [[18, 12, 13], [19, 2, 3]],\n",
    " [[19, 4, 7], [19, 14, 15]],\n",
    " [[26, 0, 2], [27, 0, 1], [27, 5, 6]],\n",
    " [[28, 0, 2], [28, 5, 6]],\n",
    " [[31, 9, 10], [31, 25, 26]],\n",
    " [[30, 18, 19], [31, 27, 28]]]\n",
    "\n",
    "preco_gold = [[[0, 1, 3]], [[0, 18, 21], [0, 20, 21], [0, 18, 20], [7, 3, 4]], [[0, 26, 29], [2, 12, 13], [0, 28, 29], [0, 26, 28], [6, 15, 16], [8, 11, 12], [11, 12, 13], [16, 9, 10], [17, 0, 1], [19, 6, 7], [21, 2, 3], [25, 7, 8], [30, 8, 9], [32, 9, 10]], [[2, 8, 11]], [[3, 2, 7]], [[3, 3, 4]], [[5, 0, 3]], [[5, 2, 3]], [[5, 4, 5]], [[6, 10, 14]], [[6, 17, 18]], [[6, 19, 20]], [[6, 3, 5]], [[7, 9, 14]], [[7, 13, 14]], [[8, 4, 8]], [[10, 2, 3]], [[31, 0, 1]], [[10, 6, 7], [13, 6, 7]], [[10, 8, 9]], [[11, 0, 1]], [[11, 6, 13], [12, 0, 2], [13, 3, 5]], [[12, 4, 11]], [[14, 2, 4]], [[14, 4, 5]], [[18, 0, 1]], [[18, 16, 17], [31, 29, 30]], [[19, 2, 3]], [[19, 4, 7], [19, 14, 15]], [[19, 10, 12]], [[21, 0, 3], [30, 6, 9]], [[21, 7, 10], [30, 14, 18]], [[21, 9, 10], [17, 6, 8], [1, 0, 3], [1, 4, 5], [1, 0, 5], [30, 16, 18]], [[21, 11, 13]], [[21, 14, 15], [6, 13, 14]], [[21, 17, 19]], [[22, 0, 9]], [[22, 7, 9]], [[23, 0, 2]], [[23, 4, 5]], [[23, 7, 11]], [[23, 9, 11]], [[23, 9, 10], [23, 13, 14], [23, 18, 19], [2, 2, 3], [0, 22, 23], [6, 3, 4], [8, 3, 4], [1, 0, 1], [12, 9, 10], [13, 8, 9], [16, 5, 6], [17, 2, 3], [18, 5, 6]], [[23, 15, 20]], [[23, 18, 20]], [[26, 0, 2], [27, 0, 1], [27, 5, 6], [28, 5, 6], [28, 0, 2]], [[26, 4, 6]], [[26, 7, 8]], [[26, 12, 14]], [[27, 5, 7]], [[27, 9, 10]], [[27, 11, 13]], [[30, 3, 5]], [[31, 4, 6]], [[31, 12, 16]], [[31, 15, 16]], [[31, 25, 26], [30, 18, 19]], [[31, 29, 31]], [[31, 33, 35], [0, 12, 14]], [[32, 6, 10]], [[6, 1, 2]], [[7, 5, 6], [32, 0, 2]], [[10, 4, 9]], [[16, 2, 4]], [[28, 5, 13], [28, 10, 13]], [[31, 7, 8], [31, 23, 24]], [[22, 2, 9]], [[17, 3, 9]], [[10, 4, 5]]]"
   ]
  },
  {
   "cell_type": "code",
   "execution_count": 4,
   "metadata": {},
   "outputs": [],
   "source": [
    "p = [[[128, 129], [174, 175], [204, 204], [212, 212]], [[384, 384], [380, 380], [310, 310], [161, 161], [164, 164], [168, 168], [5, 5], [11, 11], [14, 14], [26, 26], [44, 44], [53, 53], [23, 23], [39, 39], [60, 60], [8, 8], [84, 84], [105, 105], [109, 109], [118, 120], [100, 100], [96, 96], [225, 225], [235, 235], [273, 273], [289, 289], [271, 271], [251, 251], [300, 300], [255, 255], [287, 287], [320, 320], [305, 305], [322, 322], [348, 348], [329, 329], [358, 358], [365, 365], [419, 419], [422, 422], [405, 405], [114, 114], [197, 197], [292, 293]], [[430, 430], [11, 12], [16, 16], [53, 54], [71, 71], [73, 73], [81, 81], [90, 90], [109, 111], [118, 118], [122, 122], [136, 136], [141, 141], [128, 128], [146, 146], [168, 169], [174, 174], [179, 179], [197, 198], [216, 216], [227, 227], [208, 208], [295, 295], [292, 292], [263, 263], [266, 266], [285, 285], [318, 318], [340, 340], [371, 371], [382, 382]], [[440, 440], [426, 426], [435, 435]], [[442, 442], [433, 433], [411, 417]]]\n",
    "g = [[[5, 5], [8, 8], [14, 14], [23, 23], [26, 26], [39, 39], [44, 44], [60, 60], [73, 73], [84, 84], [96, 96], [100, 100], [105, 105], [114, 114], [161, 161], [164, 164], [168, 168], [197, 197], [225, 225], [235, 235], [251, 251], [255, 255], [271, 271], [273, 273], [287, 287], [289, 289], [300, 300], [305, 305], [310, 310], [320, 320], [322, 322], [329, 329], [348, 348], [358, 358], [365, 365], [380, 380], [384, 384], [405, 405], [419, 419], [422, 422]], [[11, 12], [16, 16], [53, 54], [71, 71], [81, 81], [90, 90], [109, 111], [118, 118], [122, 122], [128, 128], [136, 136], [141, 141], [146, 146], [168, 169], [174, 174], [179, 179], [197, 198], [208, 208], [216, 216], [227, 227], [263, 263], [266, 266], [275, 277], [285, 285], [292, 292], [295, 295], [318, 318], [340, 340], [371, 371], [382, 382], [430, 430]], [[11, 11], [53, 53], [109, 109]], [[128, 129], [174, 175]], [[204, 204], [212, 212]], [[228, 228], [241, 241]], [[274, 274], [280, 280]]]"
   ]
  },
  {
   "cell_type": "code",
   "execution_count": 90,
   "metadata": {},
   "outputs": [
    {
     "name": "stdout",
     "output_type": "stream",
     "text": [
      "Predicted:\n",
      "[((0, 0), (2, 2)), ((0, 0), (8, 8)), ((2, 2), (6, 6)), ((3, 4), (9, 9))]\n",
      "\n",
      "Gold:\n",
      "[((0, 0), (8, 8)), ((2, 2), (6, 6)), ((3, 4), (9, 9))]\n",
      "\n",
      "Running metric: muc\n",
      "Precision:\t0.75\n",
      "Recall:\t\t1.0\n",
      "F1 score:\t0.8571428571428571\n",
      "-----------------------------------\n",
      "Running metric: b_cubed\n",
      "Precision:\t0.875\n",
      "Recall:\t\t1.0\n",
      "F1 score:\t0.9333333333333333\n",
      "-----------------------------------\n",
      "Running metric: ceafe\n",
      "Precision:\t0.75\n",
      "Recall:\t\t1.0\n",
      "F1 score:\t0.8571428571428571\n",
      "-----------------------------------\n",
      "Running metric: lea\n",
      "Precision:\t0.75\n",
      "Recall:\t\t1.0\n",
      "F1 score:\t0.8571428571428571\n",
      "-----------------------------------\n",
      "\n",
      "CoNLL-2012 F1 score: 0.8825396825396825\n"
     ]
    }
   ],
   "source": [
    "pmuc = [[[0, 0], [8, 8], [2, 2], [6, 6], [3, 4], [9, 9]]]\n",
    "p = [[[0, 0], [2, 2]], [[0, 0], [8, 8]], [[2, 2], [6, 6]], [[3, 4], [9, 9]]]\n",
    "g = [[[0, 0], [8, 8]], [[2, 2], [6, 6]], [[3, 4], [9, 9]]]\n",
    "spanbert = Document(\n",
    "    p,\n",
    "    g\n",
    ")\n",
    "scorer = CorefEvaluator()\n",
    "print(spanbert)\n",
    "scorer.update(spanbert)\n",
    "scorer.detailed_score()\n"
   ]
  },
  {
   "cell_type": "code",
   "execution_count": 31,
   "metadata": {},
   "outputs": [],
   "source": [
    "# print(scorer)"
   ]
  },
  {
   "cell_type": "code",
   "execution_count": 7,
   "metadata": {},
   "outputs": [],
   "source": [
    "class Document(object):\n",
    "    def __init__(self, predicted, truth):\n",
    "        self.pred = predicted\n",
    "        self.gold = truth\n",
    "        self.pred_mentions = self.mentionize(self.pred)\n",
    "        self.gold_mentions = self.mentionize(self.gold)\n",
    "        \n",
    "    def mentionize(self, clusters):\n",
    "        mentions = {}\n",
    "        for mention_group in clusters:\n",
    "            for part_mention in mention_group:\n",
    "                mentions[part_mention] = mention_group\n",
    "        return mentions"
   ]
  },
  {
   "cell_type": "code",
   "execution_count": 6,
   "metadata": {},
   "outputs": [
    {
     "name": "stdout",
     "output_type": "stream",
     "text": [
      "Precision:\t0.702457264957265\n",
      "Recall:\t\t0.8371707657421942\n",
      "F1 score:\t0.7438227173784537\n"
     ]
    },
    {
     "name": "stderr",
     "output_type": "stream",
     "text": [
      "c:\\users\\tollef\\appdata\\local\\programs\\python\\python37\\lib\\site-packages\\sklearn\\utils\\linear_assignment_.py:128: FutureWarning: The linear_assignment function is deprecated in 0.21 and will be removed from 0.23. Use scipy.optimize.linear_sum_assignment instead.\n",
      "  FutureWarning)\n"
     ]
    }
   ],
   "source": [
    "_pred = [\n",
    "((9, 10), (24, 25), (44, 45), (83, 84), (121, 122), (199, 200)),\n",
    "((213, 215), (233, 235))\n",
    "]\n",
    "\n",
    "_gold = [((199, 200), (44, 45), (9, 10), (24, 25), (121, 122), (233, 235), (83, 84))]\n",
    "\n",
    "\n",
    "ev = CorefEvaluator()\n",
    "d1 = Document(_pred, _gold)\n",
    "\n",
    "    \n",
    "update_and_score(d1)"
   ]
  },
  {
   "cell_type": "code",
   "execution_count": 15,
   "metadata": {},
   "outputs": [
    {
     "name": "stdout",
     "output_type": "stream",
     "text": [
      "Precision:\t0.5516196766196767\n",
      "Recall:\t\t0.4519149341310764\n",
      "F1 score:\t0.49670242691371064\n"
     ]
    }
   ],
   "source": [
    "p = [((19, 23), (16, 16)), ((57, 59), (25, 27), (42, 44)), ((83, 83), (82, 82))]\n",
    "g = [((3, 3), (16, 16)), ((25, 27), (42, 44), (57, 59)), ((65, 66), (103, 104)), ((68, 71), (90, 97))]\n",
    "\n",
    "ev2 = CorefEvaluator()\n",
    "d2 = Document(p, g)\n",
    "update_and_score(d2)"
   ]
  },
  {
   "cell_type": "code",
   "execution_count": 111,
   "metadata": {},
   "outputs": [],
   "source": [
    "from scipy.optimize import linear_sum_assignment"
   ]
  },
  {
   "cell_type": "code",
   "execution_count": 69,
   "metadata": {},
   "outputs": [],
   "source": [
    "def f1(p_num, p_den, r_num, r_den, beta=1):\n",
    "    p = 0 if p_den == 0 else p_num / float(p_den)\n",
    "    r = 0 if r_den == 0 else r_num / float(r_den)\n",
    "    return 0 if p + r == 0 else (1 + beta * beta) * p * r / (beta * beta * p + r)"
   ]
  },
  {
   "cell_type": "code",
   "execution_count": 104,
   "metadata": {},
   "outputs": [],
   "source": [
    "def lea(clusters, mention_to_gold):\n",
    "    num, dem = 0, 0\n",
    "    print(\"clusters\",clusters)\n",
    "    print(\"mention to gold: \", mention_to_gold)\n",
    "    for c in clusters:\n",
    "        print(\"c:\",c)\n",
    "        if len(c) == 1:\n",
    "            print(\"length is 1\")\n",
    "            continue\n",
    "\n",
    "        common_links = 0\n",
    "        all_links = len(c) * (len(c) - 1) / 2.0\n",
    "        print(\"all links\", all_links)\n",
    "        for i, m in enumerate(c):\n",
    "            print(\"check if {} in mention_to_gold\".format(m))\n",
    "            if m in mention_to_gold:\n",
    "                print(\"goldmention:\",m)\n",
    "                for m2 in c[i + 1:]:\n",
    "                    print(\"m2: \", m2)\n",
    "                    if m2 in mention_to_gold and mention_to_gold[m] == mention_to_gold[m2]:\n",
    "                        common_links += 1\n",
    "\n",
    "        num += len(c) * common_links / float(all_links)\n",
    "        dem += len(c)\n",
    "\n",
    "    return num, dem"
   ]
  },
  {
   "cell_type": "code",
   "execution_count": 106,
   "metadata": {},
   "outputs": [
    {
     "name": "stdout",
     "output_type": "stream",
     "text": [
      "clusters [((9, 10), (24, 25), (44, 45), (83, 84), (121, 122), (199, 200)), ((213, 215), (233, 235))]\n",
      "mention to gold:  {(199, 200): ((199, 200), (44, 45), (9, 10), (24, 25), (121, 122), (233, 235), (83, 84)), (44, 45): ((199, 200), (44, 45), (9, 10), (24, 25), (121, 122), (233, 235), (83, 84)), (9, 10): ((199, 200), (44, 45), (9, 10), (24, 25), (121, 122), (233, 235), (83, 84)), (24, 25): ((199, 200), (44, 45), (9, 10), (24, 25), (121, 122), (233, 235), (83, 84)), (121, 122): ((199, 200), (44, 45), (9, 10), (24, 25), (121, 122), (233, 235), (83, 84)), (233, 235): ((199, 200), (44, 45), (9, 10), (24, 25), (121, 122), (233, 235), (83, 84)), (83, 84): ((199, 200), (44, 45), (9, 10), (24, 25), (121, 122), (233, 235), (83, 84))}\n",
      "c: ((9, 10), (24, 25), (44, 45), (83, 84), (121, 122), (199, 200))\n",
      "all links 15.0\n",
      "check if (9, 10) in mention_to_gold\n",
      "goldmention: (9, 10)\n",
      "m2:  (24, 25)\n",
      "m2:  (44, 45)\n",
      "m2:  (83, 84)\n",
      "m2:  (121, 122)\n",
      "m2:  (199, 200)\n",
      "check if (24, 25) in mention_to_gold\n",
      "goldmention: (24, 25)\n",
      "m2:  (44, 45)\n",
      "m2:  (83, 84)\n",
      "m2:  (121, 122)\n",
      "m2:  (199, 200)\n",
      "check if (44, 45) in mention_to_gold\n",
      "goldmention: (44, 45)\n",
      "m2:  (83, 84)\n",
      "m2:  (121, 122)\n",
      "m2:  (199, 200)\n",
      "check if (83, 84) in mention_to_gold\n",
      "goldmention: (83, 84)\n",
      "m2:  (121, 122)\n",
      "m2:  (199, 200)\n",
      "check if (121, 122) in mention_to_gold\n",
      "goldmention: (121, 122)\n",
      "m2:  (199, 200)\n",
      "check if (199, 200) in mention_to_gold\n",
      "goldmention: (199, 200)\n",
      "c: ((213, 215), (233, 235))\n",
      "all links 1.0\n",
      "check if (213, 215) in mention_to_gold\n",
      "check if (233, 235) in mention_to_gold\n",
      "goldmention: (233, 235)\n",
      "clusters [((199, 200), (44, 45), (9, 10), (24, 25), (121, 122), (233, 235), (83, 84))]\n",
      "mention to gold:  {(9, 10): ((9, 10), (24, 25), (44, 45), (83, 84), (121, 122), (199, 200)), (24, 25): ((9, 10), (24, 25), (44, 45), (83, 84), (121, 122), (199, 200)), (44, 45): ((9, 10), (24, 25), (44, 45), (83, 84), (121, 122), (199, 200)), (83, 84): ((9, 10), (24, 25), (44, 45), (83, 84), (121, 122), (199, 200)), (121, 122): ((9, 10), (24, 25), (44, 45), (83, 84), (121, 122), (199, 200)), (199, 200): ((9, 10), (24, 25), (44, 45), (83, 84), (121, 122), (199, 200)), (213, 215): ((213, 215), (233, 235)), (233, 235): ((213, 215), (233, 235))}\n",
      "c: ((199, 200), (44, 45), (9, 10), (24, 25), (121, 122), (233, 235), (83, 84))\n",
      "all links 21.0\n",
      "check if (199, 200) in mention_to_gold\n",
      "goldmention: (199, 200)\n",
      "m2:  (44, 45)\n",
      "m2:  (9, 10)\n",
      "m2:  (24, 25)\n",
      "m2:  (121, 122)\n",
      "m2:  (233, 235)\n",
      "m2:  (83, 84)\n",
      "check if (44, 45) in mention_to_gold\n",
      "goldmention: (44, 45)\n",
      "m2:  (9, 10)\n",
      "m2:  (24, 25)\n",
      "m2:  (121, 122)\n",
      "m2:  (233, 235)\n",
      "m2:  (83, 84)\n",
      "check if (9, 10) in mention_to_gold\n",
      "goldmention: (9, 10)\n",
      "m2:  (24, 25)\n",
      "m2:  (121, 122)\n",
      "m2:  (233, 235)\n",
      "m2:  (83, 84)\n",
      "check if (24, 25) in mention_to_gold\n",
      "goldmention: (24, 25)\n",
      "m2:  (121, 122)\n",
      "m2:  (233, 235)\n",
      "m2:  (83, 84)\n",
      "check if (121, 122) in mention_to_gold\n",
      "goldmention: (121, 122)\n",
      "m2:  (233, 235)\n",
      "m2:  (83, 84)\n",
      "check if (233, 235) in mention_to_gold\n",
      "goldmention: (233, 235)\n",
      "m2:  (83, 84)\n",
      "check if (83, 84) in mention_to_gold\n",
      "goldmention: (83, 84)\n",
      "0.7317073170731706\n"
     ]
    }
   ],
   "source": [
    "pn, pd = lea(_pred, _gold_mentions)\n",
    "rn, rd = lea(_gold, _pred_mentions)\n",
    "print(f1(pn, pd, rn, rd))"
   ]
  },
  {
   "cell_type": "code",
   "execution_count": null,
   "metadata": {},
   "outputs": [],
   "source": []
  }
 ],
 "metadata": {
  "kernelspec": {
   "display_name": "Python 3",
   "language": "python",
   "name": "python3"
  },
  "language_info": {
   "codemirror_mode": {
    "name": "ipython",
    "version": 3
   },
   "file_extension": ".py",
   "mimetype": "text/x-python",
   "name": "python",
   "nbconvert_exporter": "python",
   "pygments_lexer": "ipython3",
   "version": "3.7.6"
  }
 },
 "nbformat": 4,
 "nbformat_minor": 4
}
